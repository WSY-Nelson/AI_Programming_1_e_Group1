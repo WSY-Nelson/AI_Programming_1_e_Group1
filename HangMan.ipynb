{
 "cells": [
  {
   "cell_type": "markdown",
   "metadata": {},
   "source": [
    "Define the method of LoadWords"
   ]
  },
  {
   "cell_type": "code",
   "execution_count": 1,
   "metadata": {},
   "outputs": [],
   "source": [
    "def LoadWords():\n",
    "    while True:\n",
    "        \n",
    "        # Choose the difficluty\n",
    "        global diff\n",
    "        diff = input(\"Please choose the difficulty for other Player.\\n\\\n",
    "            1:Easy(Letter<=4) / 2:Middile(5<=Letter<=7) / 3:Hard(Letter>=8) \\n\")\n",
    "        if diff == \"1\" :\n",
    "            inFile = open('Simple_list.txt', 'r')\n",
    "            break\n",
    "        elif diff == \"2\":\n",
    "            inFile = open('Middle_list.txt', 'r')\n",
    "            break\n",
    "        elif diff == \"3\":\n",
    "            inFile = open('Hard_list.txt', 'r')\n",
    "            break\n",
    "        else:\n",
    "            print(\"Please input 1 or 2 or 3 to choose difficulty!\")\n",
    "            continue\n",
    "            \n",
    "        # Load words\n",
    "        print(\"Loading word list from file...\")\n",
    "        line = inFile.readline()\n",
    "        # WordList: list of strings\n",
    "        WordList = line.split()\n",
    "        print(\"  \", len(WordList), \"words loaded.\")\n",
    "        inFile.close()\n",
    "        \n",
    "        return WordList"
   ]
  },
  {
   "cell_type": "code",
   "execution_count": null,
   "metadata": {},
   "outputs": [],
   "source": []
  }
 ],
 "metadata": {
  "kernelspec": {
   "display_name": "Python 3",
   "language": "python",
   "name": "python3"
  },
  "language_info": {
   "codemirror_mode": {
    "name": "ipython",
    "version": 3
   },
   "file_extension": ".py",
   "mimetype": "text/x-python",
   "name": "python",
   "nbconvert_exporter": "python",
   "pygments_lexer": "ipython3",
   "version": "3.7.3"
  }
 },
 "nbformat": 4,
 "nbformat_minor": 2
}
