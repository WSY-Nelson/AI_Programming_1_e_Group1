{
 "cells": [
  {
   "cell_type": "markdown",
   "metadata": {},
   "source": [
    "Define the method of LoadWords"
   ]
  },
  {
   "cell_type": "code",
   "execution_count": 1,
   "metadata": {},
   "outputs": [],
   "source": [
    "def LoadWords():\n",
    "    while True:\n",
    "        \n",
    "        # Choose difficluty\n",
    "        global diff\n",
    "        \n",
    "        diff = input(\"Please choose the difficulty for other Player.\\n\\\n",
    "            1:Easy(Letter<=4) / 2:Middile(5<=Letter<=7) / 3:Hard(Letter>=8) \\n\")\n",
    "        if diff == \"1\" :\n",
    "            inFile = open('Simple_list.txt', 'r')\n",
    "            break\n",
    "        elif diff == \"2\":\n",
    "            inFile = open('Middle_list.txt', 'r')\n",
    "            break\n",
    "        elif diff == \"3\":\n",
    "            inFile = open('Hard_list.txt', 'r')\n",
    "            break\n",
    "        else:\n",
    "            print(\"Please input 1 or 2 or 3 to choose difficulty!\")\n",
    "            continue\n",
    "            \n",
    "        # Load words\n",
    "        print(\"Loading word list from file...\")\n",
    "        line = inFile.readline()\n",
    "        WordList = line.split()\n",
    "        print(\"  \", len(WordList), \"words loaded.\")\n",
    "        inFile.close()\n",
    "        \n",
    "        return WordList"
   ]
  },
  {
   "cell_type": "markdown",
   "metadata": {},
   "source": [
    "Define the method of ChooseWord"
   ]
  },
  {
   "cell_type": "code",
   "execution_count": null,
   "metadata": {},
   "outputs": [],
   "source": [
    "def ChooseWord(WordList):\n",
    "    \n",
    "    if diff == \"1\":\n",
    "        inFile = open('C:/Users/Administrator/Desktop/AI/easy_words.txt', 'r')\n",
    "    elif diff == \"2\":\n",
    "        inFile = open('C:/Users/Administrator/Desktop/AI/middle_words.txt', 'r')\n",
    "    else:\n",
    "        inFile = open('C:/Users/Administrator/Desktop/AI/hard_words.txt', 'r')\n",
    "    \n",
    "    line = inFile.readline()\n",
    "    WordList = line.split()\n",
    "    print('There are '+ ', '.join(WordList) +' in list')\n",
    "    \n",
    "    # choose or enter the secert word\n",
    "    while True:\n",
    "        global word\n",
    "        word = input('Please enter a word to let another Player guess: ')\n",
    "        if word in WordList:\n",
    "            break\n",
    "        else:\n",
    "            if diff == \"1\" and len(word)>0 and len(word)<=4:\n",
    "                addWord = open('C:/Users/Administrator/Desktop/AI/easy_words.txt', 'a')\n",
    "                addWord.write(' '+ word)\n",
    "                break\n",
    "            elif diff == \"2\" and len(word)>=5 and len(word)<=7:\n",
    "                addWord = open('C:/Users/Administrator/Desktop/AI/middle_words.txt', 'a')\n",
    "                addWord.write(' '+ word)\n",
    "                break\n",
    "            elif diff == \"3\" and len(word)>=8:\n",
    "                addWord = open('C:/Users/Administrator/Desktop/AI/hard_words.txt', 'a')\n",
    "                addWord.write(' '+ word)\n",
    "                break\n",
    "            else:\n",
    "                print(\"Wrong input word! Please check difficulty and length of the word!\")\n",
    "                continue\n",
    "    \n",
    "    return word"
   ]
  }
 ],
 "metadata": {
  "kernelspec": {
   "display_name": "Python 3",
   "language": "python",
   "name": "python3"
  },
  "language_info": {
   "codemirror_mode": {
    "name": "ipython",
    "version": 3
   },
   "file_extension": ".py",
   "mimetype": "text/x-python",
   "name": "python",
   "nbconvert_exporter": "python",
   "pygments_lexer": "ipython3",
   "version": "3.7.3"
  }
 },
 "nbformat": 4,
 "nbformat_minor": 2
}
